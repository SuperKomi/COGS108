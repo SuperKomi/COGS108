{
 "cells": [
  {
   "cell_type": "markdown",
   "metadata": {},
   "source": [
    "# COGS 108 - Final Project Proposal (Group 74)"
   ]
  },
  {
   "cell_type": "markdown",
   "metadata": {},
   "source": [
    "# Names\n",
    "\n",
    "- Gabriel Aganon\n",
    "- Ramy Al-Hosri\n",
    "- Sean Ng\n",
    "- Jan Do\n",
    "- Hwi Yeo"
   ]
  },
  {
   "cell_type": "markdown",
   "metadata": {},
   "source": [
    "# Research Question"
   ]
  },
  {
   "cell_type": "markdown",
   "metadata": {},
   "source": [
    "How is the amount of content in a video game (as dictated by the ESRB) predictive of its popularity on Twitch before and during the COVID-19 pandemic?"
   ]
  },
  {
   "cell_type": "markdown",
   "metadata": {},
   "source": [
    "## Background and Prior Work"
   ]
  },
  {
   "cell_type": "markdown",
   "metadata": {},
   "source": [
    "   Across the globe, governments employ ways of moderating the content contained in various media including video games. In the case of the United States of America (or US), the way for moderating video game content is done through the “ESRB (Entertainment Software Rating Board” who “focuses on...protecting younger children from violent and sexual content” through a rating system (Dogruel & Joeckel, 2013, p. 673 & p. 687). While we do not intend on exploring the reasons behind the US’ method for moderating video games, we intend on figuring out if this has the ability to predict a certain thing: the popularity of various video games. Of course, when discussing popularity, there are various ways in which we could approach such a concept. Ultimately, we have decided to approach popularity in terms of viewership within the popular streaming platform Twitch.\n",
    "\n",
    "   For the unfamiliar, Twitch is a website in which various people broadcast their gameplay of various video games in front of live online audiences. Hamilton, Garretson, and Kerne (2014) assert that this phenomenon is partially influenced by “viewers” (the live audiences mentioned above) “want[ing] to learn something about a particular game”, thus putting pressure on “streamers” (the people broadcasting their gameplay) to provide “a sense of friendliness” (p. 1319). In a way, this returns to the importance of moderating video game content. The insight that streamers must maintain some sort of rapport with their respective audiences further supports our endeavor of figuring out whether the video game content dictated by one of the major moderation systems in the world can be a tool for predicting a video game’s popularity. After all, if a moderation system like the ESRB already presents standards for what a video game contains, that limits the content that: 1) a streamer can present to various audiences; 2) a viewer can connect with.\n",
    "\n",
    "   However, complicating matters is the fact that at the time of this project, there is also an ongoing global pandemic. Singh and Singh (2020) contend that since “March 2020”, the phenomenon of “staying away from people to avoid the spreading and catching [of COVID-19]” has become commonplace across the globe as evidenced by “unprecedented lockdowns” (pp. 168-169, p. 171). In other words, people are more likely to be at home currently than before the date presented by Singh and Singh. While this may certainly present detrimental effects, we believe that it also presents an opportunity. Given that more people are staying at home, this may showcase a trend of more people generally viewing content through online sources. Of course, this can include Twitch! Therefore, we would also like to examine if the relationship between video game moderation and video game popularity (with the prior being a potential predictor of the latter) holds up before and after the onset of the ongoing pandemic.\n",
    "\n",
    "References\n",
    "\n",
    "Dogruel, L. & Joeckel, S. (2013). Video game rating systems in the US and Europe: Comparing their outcomes. The International Communication Gazette, 75(7), 672 - 692. https://doi.org/10.1177/1748048513482539.\n",
    "\n",
    "Hamilton, W.A., Garretson, O., & Kerne, A. (2014). Streaming on Twitch: Fostering Participatory Communities of Play within Live Mixed Media. CHI '14: Proceedings of the SIGCHI Conference on Human Factors in Computing Systems (pp. 1315 - 1324). Association for Computing Machinery. https://doi.org/10.1145/2556288.2557048.\n",
    "\n",
    "Singh, J. & Singh, J. (2020). COVID-19 and Its Impact on Society. Electronic Research Journal of Social Sciences and Humanities, 2(1), 168 - 172. http://www.eresearchjournal.com/volume-2-issue-i-jan-march-2020/."
   ]
  },
  {
   "cell_type": "markdown",
   "metadata": {},
   "source": [
    "# Hypothesis\n"
   ]
  },
  {
   "cell_type": "markdown",
   "metadata": {},
   "source": [
    "The amount of content within a video game (as dictated by the ESRB) is likely predictive of its popularity on Twitch. As the ESRB is more likely to indicate more content within video games meant for older audiences (as we described in the background), we suspect that these games are more likely to be popular than games meant for younger audiences. Going from before and during the pandemic, this predictability is likely to increase as more people utilize online content after the onset of the pandemic."
   ]
  },
  {
   "cell_type": "markdown",
   "metadata": {},
   "source": [
    "# Data"
   ]
  },
  {
   "cell_type": "markdown",
   "metadata": {},
   "source": [
    "The ideal dataset to answer our research question would consist of Twitch viewership data from ideally 2019 to 2021. We would want the time frame to be broken up into months so that we can see the minute details versus if we were just to have data divided up by year. We would want variables such as game name, category, total viewer count, month, year, total hours watched, ESRB rating, and number of people streaming corresponding to a game in our dataset. In addition, we would like at least 5,000 observations in the dataset to give us a greater sense of any possible trends. \n",
    "Luckily, we have currently found a dataset with the top games on Twitch from 2016 - 2021. This has most of the variables we want to use to evaluate popularity of games such as ranking, hours watched, average viewers and it also has the corresponding months and years for each observation. In addition, we have also recently found another dataset on Kaggle with games and their corresponding ESRB rating. Since we have two tables, we can input both the dataset into their own Pandas dataframes and then inner join on the name of the games and utilize that resulting dataframe.\n",
    "\n",
    "Current Datasets\n",
    "\n",
    "Twitch Viewership Dataset (2016 - 2021)\n",
    "https://www.kaggle.com/rankirsh/evolution-of-top-games-on-twitch?select=Twitch_game_data.csv\n",
    "\n",
    "(Twitch Dataset Source)\n",
    "https://sullygnome.com/games\n",
    "\n",
    "Video Games and their ESRB Ratings\n",
    "https://www.kaggle.com/imohtn/video-games-rating-by-esrb"
   ]
  },
  {
   "cell_type": "markdown",
   "metadata": {},
   "source": [
    "# Ethics & Privacy"
   ]
  },
  {
   "cell_type": "markdown",
   "metadata": {},
   "source": [
    "Clearly, there will be limitations to what we are able to accomplish with this project. Among the most obvious limitations is the generalizability of our datasets. While we currently have a Twitch dataset, it is unclear whether it is representative of mostly older (or younger) viewers, males and/or females, etc. Moreover, the streams (or broadcasts produced by streamers) are only representative of streamers with 3 or more viewers.\n",
    "The dataset bias for this project is also important as it mostly pertains to users with sufficient internet access and computer systems. Since we are analyzing the top games of Twitch, we can only address the bias beforehand that the databases may only reflect popularity of games for neighborhoods who can handle the internet connection. Additionally, we are unsure if these users are mostly present within the US, Europe, Brazil, etc.\n",
    "\n",
    "We also must consider the consequences of our project. As the outcome of this project is to determine whether content dictated by a content moderation system predicts a video game’s popularity on a major online platform, the implications for video game developers and streamers is immense. If our hypothesis holds, the amount of games made for a certain age group and how much of these games are streamed can shift accordingly. As we are not yet sure if our hypothesis holds, this is not currently a point of concern, but is certainly something to monitor in the near future.\n",
    "\n",
    "However, this lack of generalizability also works in our favor in one way: privacy. In terms of privacy concerns, we do not collect any identifiable user information given that we are analyzing publicly available datasets. As such, we won’t be worrying about whether our data and analyses are gonna compromise people’s personal information. Still, that does not change how generalizability, bias, and consequences are going to be the most important considerations."
   ]
  },
  {
   "cell_type": "markdown",
   "metadata": {},
   "source": [
    "# Team Expectations "
   ]
  },
  {
   "cell_type": "markdown",
   "metadata": {},
   "source": [
    "* Meet up regularly to discuss project progress.\n",
    "* Maintain frequent communication in the group chat.\n",
    "* Meet checkpoint deadlines.\n",
    "* Accommodate for extraneous circumstances.\n",
    "* Have fun."
   ]
  },
  {
   "cell_type": "markdown",
   "metadata": {},
   "source": [
    "# Project Timeline Proposal"
   ]
  },
  {
   "cell_type": "markdown",
   "metadata": {},
   "source": [
    "| Meeting Date  | Meeting Time| Completed Before Meeting  | Discuss at Meeting |\n",
    "|---|---|---|---|\n",
    "| 10/18  |  4 PM | Brainstorm ideas  | Decide on a topic |\n",
    "| 10/20  |  7 PM | Background research on datasets  | Vote on our research question; Designate roles | \n",
    "| 10/23  |  Before 11:59 PM| Fill out the project proposal |Check and approve each other's work | \n",
    "| 10/25  | 4 PM  | Research and import datasets; begin cleaning  | Explain the learnings of the datasets; complete checkpoint 1  |\n",
    "| 11/08  | 4 PM  | Interpret and describe datasets; include data viz and show the analysis | Discuss results and the conclusion   |\n",
    "| 11/15 | 4 PM  | Brainstorm video ideas | Execute video and complete checkpoint 2 |\n",
    "| 11/29 | 12 PM  | Finalize report; complete team and individual feedback surveys| Submit project |"
   ]
  }
 ],
 "metadata": {
  "kernelspec": {
   "display_name": "Python 3 (ipykernel)",
   "language": "python",
   "name": "python3"
  },
  "language_info": {
   "codemirror_mode": {
    "name": "ipython",
    "version": 3
   },
   "file_extension": ".py",
   "mimetype": "text/x-python",
   "name": "python",
   "nbconvert_exporter": "python",
   "pygments_lexer": "ipython3",
   "version": "3.9.5"
  }
 },
 "nbformat": 4,
 "nbformat_minor": 2
}
